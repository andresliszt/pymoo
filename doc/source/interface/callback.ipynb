{
 "cells": [
  {
   "cell_type": "markdown",
   "metadata": {
    "raw_mimetype": "text/restructuredtext"
   },
   "source": [
    ".. _nb_callback:"
   ]
  },
  {
   "cell_type": "markdown",
   "metadata": {},
   "source": [
    "## Callback"
   ]
  },
  {
   "cell_type": "markdown",
   "metadata": {},
   "source": [
    "A `Callback` class can be used to receive a notification of the algorithm object each generation.\n",
    "This can be useful to track metrics, do additional calculations, or even modify the algorithm object during the run.\n",
    "The latter is only recommended for experienced users.\n",
    "\n",
    "For instance, to keep track of the best solution in each generation:"
   ]
  },
  {
   "cell_type": "code",
   "execution_count": 3,
   "metadata": {
    "code": "algorithms/usage_callback.py"
   },
   "outputs": [
    {
     "name": "stdout",
     "output_type": "stream",
     "text": [
      "=============================================\n",
      "n_gen |  n_eval |     fopt     |     favg    \n",
      "=============================================\n",
      "    1 |     100 |  0.387099336 |  0.831497479\n",
      "    2 |     200 |  0.302189349 |  0.578035582\n",
      "    3 |     300 |  0.267733594 |  0.443801185\n",
      "    4 |     400 |  0.188215259 |  0.347200983\n",
      "    5 |     500 |  0.083479177 |  0.272644726\n",
      "    6 |     600 |  0.083479177 |  0.212567874\n",
      "    7 |     700 |  0.072492126 |  0.173574163\n",
      "    8 |     800 |  0.051256476 |  0.140740462\n",
      "    9 |     900 |  0.041778020 |  0.110370322\n",
      "   10 |    1000 |  0.041778020 |  0.089125798\n",
      "   11 |    1100 |  0.031644566 |  0.071339910\n",
      "   12 |    1200 |  0.030055810 |  0.057941249\n",
      "   13 |    1300 |  0.021855327 |  0.047786695\n",
      "   14 |    1400 |  0.017620999 |  0.040676540\n",
      "   15 |    1500 |  0.014756395 |  0.034902705\n",
      "   16 |    1600 |  0.014756395 |  0.029778240\n",
      "   17 |    1700 |  0.012976416 |  0.026185115\n",
      "   18 |    1800 |  0.008637920 |  0.022664820\n",
      "   19 |    1900 |  0.006399439 |  0.019648350\n",
      "   20 |    2000 |  0.006399439 |  0.016725603\n"
     ]
    },
    {
     "data": {
      "image/png": "[encoded data removed]",
      "text/plain": [
       "<Figure size 432x288 with 1 Axes>"
      ]
     },
     "metadata": {
      "needs_background": "light"
     },
     "output_type": "display_data"
    }
   ],
   "source": [
    "import matplotlib.pyplot as plt\n",
    "import numpy as np\n",
    "\n",
    "from pymoo.algorithms.so_genetic_algorithm import GA\n",
    "from pymoo.factory import get_problem\n",
    "from pymoo.model.callback import Callback\n",
    "from pymoo.optimize import minimize\n",
    "\n",
    "\n",
    "class MyCallback(Callback):\n",
    "\n",
    "    def __init__(self) -> None:\n",
    "        super().__init__()\n",
    "        self.data[\"best\"] = []\n",
    "\n",
    "    def notify(self, algorithm):\n",
    "        self.data[\"best\"].append(algorithm.pop.get(\"F\").min())\n",
    "\n",
    "\n",
    "problem = get_problem(\"sphere\")\n",
    "\n",
    "algorithm = GA(pop_size=100)\n",
    "\n",
    "res = minimize(problem,\n",
    "               algorithm,\n",
    "               ('n_gen', 20),\n",
    "               seed=1,\n",
    "               callback=MyCallback(),\n",
    "               save_history=True,\n",
    "               verbose=True)\n",
    "\n",
    "val = res.algorithm.callback.data[\"best\"]\n",
    "plt.plot(np.arange(len(val)), val)\n",
    "plt.show()\n",
    "\n"
   ]
  },
  {
   "cell_type": "markdown",
   "metadata": {},
   "source": [
    "If the run's analysis should be done during post-processing, the option `save_history` can be used as well. If a callback is used, history does not need to be saved.\n",
    "With the `history` object, the same as above can be achieved by using the stored information during the run:"
   ]
  },
  {
   "cell_type": "code",
   "execution_count": 4,
   "metadata": {},
   "outputs": [
    {
     "data": {
      "image/png": "[encoded data removed]",
      "text/plain": [
       "<Figure size 432x288 with 1 Axes>"
      ]
     },
     "metadata": {
      "needs_background": "light"
     },
     "output_type": "display_data"
    }
   ],
   "source": [
    "val = [e.pop.get(\"F\").min() for e in res.history]\n",
    "plt.plot(np.arange(len(val)), val)\n",
    "plt.show()"
   ]
  },
  {
   "cell_type": "markdown",
   "metadata": {},
   "source": [
    "If the `save_history` is set true, a deep copy of the algorithm object takes place in each generation. Please note that this can be quite expensive and might not be desired for all runs. However, it provides excellent post-processing options because all data can be accessed, respectively."
   ]
  },
  {
   "cell_type": "markdown",
   "metadata": {},
   "source": [
    "## Callback that modifies the algorithm\n",
    "\n",
    "A very important feature for callack is to modify the algorithm at runtime. For example, a technique used in problems involving genetic algorithms is to explore a lot at first (which means mutation with a high rate) and then simply to improve individuals in a deterministic way (use only the crossover operator)\n",
    "\n",
    "To do this we implement a custom class ``StopMutationAfterNgenCallaback`` that stop the mutation operator after a number of generation"
   ]
  },
  {
   "cell_type": "code",
   "execution_count": 5,
   "metadata": {},
   "outputs": [],
   "source": [
    "from pymoo.operators.mutation.no_mutation import NoMutation\n",
    "\n",
    "class StopMutationAfterNgenCallaback:\n",
    "\n",
    "    def __init__(self, after_gen: int):\n",
    "        self.after_gen = after_gen\n",
    "\n",
    "    def __call__(self, algorithm):\n",
    "\n",
    "        if algorithm.n_gen == self.after_gen:\n",
    "            algorithm.mating.mutation = NoMutation()\n",
    "            # Stop the mutation operator\n",
    "            algorithm.callback = None\n",
    "            # After stopping mutation operator this callback is useless, so we stop it\n",
    "            print(\"No mutation anymore!\")\n"
   ]
  },
  {
   "cell_type": "code",
   "execution_count": 6,
   "metadata": {},
   "outputs": [
    {
     "name": "stdout",
     "output_type": "stream",
     "text": [
      "=============================================\n",
      "n_gen |  n_eval |     fopt     |     favg    \n",
      "=============================================\n",
      "    1 |     100 |  0.387099336 |  0.831497479\n",
      "    2 |     200 |  0.302189349 |  0.578035582\n",
      "    3 |     300 |  0.267733594 |  0.443801185\n",
      "    4 |     400 |  0.188215259 |  0.347200983\n",
      "    5 |     500 |  0.083479177 |  0.272644726\n",
      "    6 |     600 |  0.083479177 |  0.212567874\n",
      "    7 |     700 |  0.072492126 |  0.173574163\n",
      "    8 |     800 |  0.051256476 |  0.140740462\n",
      "    9 |     900 |  0.041778020 |  0.110370322\n",
      "   10 |    1000 |  0.041778020 |  0.089125798\n",
      "No mutation anymore!\n",
      "   11 |    1100 |  0.031644566 |  0.067703807\n",
      "   12 |    1200 |  0.025634427 |  0.050892023\n",
      "   13 |    1300 |  0.018530875 |  0.038991673\n",
      "   14 |    1400 |  0.015780620 |  0.030549532\n",
      "   15 |    1500 |  0.015780620 |  0.025176166\n",
      "   16 |    1600 |  0.011922145 |  0.020670936\n",
      "   17 |    1700 |  0.009995114 |  0.017006136\n",
      "   18 |    1800 |  0.002863949 |  0.013573917\n",
      "   19 |    1900 |  0.002816449 |  0.010706763\n",
      "   20 |    2000 |  0.001792894 |  0.008355458\n"
     ]
    }
   ],
   "source": [
    "algorithm = GA(pop_size=100)\n",
    "\n",
    "res = minimize(problem,\n",
    "               algorithm,\n",
    "               ('n_gen', 20),\n",
    "               seed=1,\n",
    "               callback=StopMutationAfterNgenCallaback(after_gen = 10),\n",
    "               save_history=True,\n",
    "               verbose=True)\n",
    "\n",
    "assert isinstance(res.algorithm.mating.mutation, NoMutation)"
   ]
  },
  {
   "cell_type": "markdown",
   "metadata": {},
   "source": [
    "the objective function seems to decrease faster after the tenth generation, compared to the previous run"
   ]
  },
  {
   "cell_type": "code",
   "execution_count": null,
   "metadata": {},
   "outputs": [],
   "source": []
  }
 ],
 "metadata": {
  "kernelspec": {
   "display_name": "Python 3 (ipykernel)",
   "language": "python",
   "name": "python3"
  },
  "language_info": {
   "codemirror_mode": {
    "name": "ipython",
    "version": 3
   },
   "file_extension": ".py",
   "mimetype": "text/x-python",
   "name": "python",
   "nbconvert_exporter": "python",
   "pygments_lexer": "ipython3",
   "version": "3.7.7"
  }
 },
 "nbformat": 4,
 "nbformat_minor": 4
}
